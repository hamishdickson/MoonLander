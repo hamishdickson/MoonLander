{
 "cells": [
  {
   "cell_type": "markdown",
   "metadata": {},
   "source": [
    "# WIP\n",
    "\n",
    "Playing with a different way of doing exploration - WIP"
   ]
  },
  {
   "cell_type": "code",
   "execution_count": 1,
   "metadata": {},
   "outputs": [],
   "source": [
    "import random\n",
    "import gym\n",
    "import numpy as np\n",
    "from collections import deque\n",
    "\n",
    "import torch\n",
    "from torch import nn, optim\n",
    "import torch.nn.functional as F\n",
    "\n",
    "import matplotlib.pyplot as plt\n",
    "%matplotlib inline"
   ]
  },
  {
   "cell_type": "code",
   "execution_count": 2,
   "metadata": {},
   "outputs": [],
   "source": [
    "ENV_NAME = \"LunarLander-v2\"\n",
    "\n",
    "GAMMA = 0.999\n",
    "LEARNING_RATE = 0.001\n",
    "\n",
    "MEMORY_SIZE = 25000\n",
    "BATCH_SIZE = 32\n",
    "\n",
    "CLIP = 0.01\n",
    "\n",
    "# EXPLORATION_MAX = 0.3\n",
    "# EXPLORATION_MIN = 0.2\n",
    "# EXPLORATION_DECAY = 0.9999"
   ]
  },
  {
   "cell_type": "code",
   "execution_count": 4,
   "metadata": {},
   "outputs": [],
   "source": [
    "class EnvModel(nn.Module):\n",
    "    def __init__(self, observation_space, action_space):\n",
    "        super().__init__()\n",
    "        self.fc1 = nn.Linear(observation_space, 128)\n",
    "        self.fc2 = nn.Linear(128, 64)\n",
    "        self.fc_out = nn.Linear(64, action_space)\n",
    "    \n",
    "    def forward(self, x):\n",
    "        x = torch.from_numpy(x).float()\n",
    "        x = F.relu(self.fc1(x))\n",
    "        x = F.relu(self.fc2(x))\n",
    "        x = self.fc_out(x)\n",
    "        return x"
   ]
  },
  {
   "cell_type": "code",
   "execution_count": 39,
   "metadata": {},
   "outputs": [],
   "source": [
    "class Dqn():\n",
    "    def __init__(self, observation_space, action_space):\n",
    "        self.observation_space = observation_space\n",
    "        self.action_space = action_space\n",
    "        self.model = EnvModel(observation_space, action_space)\n",
    "        self.criterion = nn.MSELoss()\n",
    "        self.optimizer = optim.Adam(self.model.parameters(), lr=LEARNING_RATE)\n",
    "        self.train_losses = []\n",
    "        self.memory = deque(maxlen=MEMORY_SIZE)    \n",
    "        \n",
    "        \n",
    "    def fit(self, state, q_values):\n",
    "        q_values = torch.FloatTensor(q_values)\n",
    "        self.optimizer.zero_grad()\n",
    "        log_ps = self.model(state)\n",
    "        loss = self.criterion(log_ps, q_values)\n",
    "        loss.backward()\n",
    "        self.optimizer.step()\n",
    "        \n",
    "        \n",
    "    def softmax(x):\n",
    "        return F.softmax(x)\n",
    "        \n",
    "    def predict(self, state):\n",
    "        self.model.eval()\n",
    "        with torch.no_grad():\n",
    "            prediction = self.model(state)\n",
    "        \n",
    "        self.model.train()\n",
    "        return prediction.numpy()\n",
    "    \n",
    "    \n",
    "    def remember(self, state, action, reward, next_state, done):\n",
    "        self.memory.append((state, action, reward, next_state, done))\n",
    "        \n",
    "        \n",
    "    def get_action(self, state):\n",
    "        q_values = self.predict(state)\n",
    "        q_probs = np.exp(q_values)/sum(np.exp(q_values))\n",
    "        q_clipped = np.clip(q_probs, CLIP, 1 - CLIP)\n",
    "        \n",
    "        q_clipped = q_clipped / q_clipped.sum(axis=0,keepdims=1)\n",
    "        \n",
    "        return np.random.choice([0, 1, 2, 3], p=q_clipped)\n",
    "    \n",
    "    \n",
    "    def experience_replay(self):\n",
    "        batch = random.sample(self.memory, min(BATCH_SIZE, len(self.memory)))\n",
    "\n",
    "        for state, action, reward, state_next, terminal in batch:\n",
    "            state_reward = reward if terminal else (reward + GAMMA * np.max(self.predict(state_next)))\n",
    "            q_values_predicted = self.predict(state)\n",
    "            q_values_predicted[action] = state_reward\n",
    "            self.fit(state, q_values_predicted)"
   ]
  },
  {
   "cell_type": "code",
   "execution_count": 40,
   "metadata": {},
   "outputs": [
    {
     "name": "stdout",
     "output_type": "stream",
     "text": [
      "\u001b[33mWARN: gym.spaces.Box autodetected dtype as <class 'numpy.float32'>. Please provide explicit dtype.\u001b[0m\n"
     ]
    },
    {
     "name": "stderr",
     "output_type": "stream",
     "text": [
      "/Users/hamishdickson/miniconda3/envs/py36/lib/python3.6/site-packages/gym/envs/registration.py:14: PkgResourcesDeprecationWarning: Parameters to load are deprecated.  Call .resolve and .require separately.\n",
      "  result = entry_point.load(False)\n"
     ]
    }
   ],
   "source": [
    "env = gym.make(ENV_NAME)"
   ]
  },
  {
   "cell_type": "code",
   "execution_count": 41,
   "metadata": {},
   "outputs": [
    {
     "name": "stdout",
     "output_type": "stream",
     "text": [
      "8 4\n"
     ]
    }
   ],
   "source": [
    "observation_space = env.observation_space.shape[0]\n",
    "action_space = env.action_space.n\n",
    "\n",
    "print(observation_space, action_space)"
   ]
  },
  {
   "cell_type": "code",
   "execution_count": 42,
   "metadata": {},
   "outputs": [],
   "source": [
    "epochs = 250\n",
    "\n",
    "scores = []\n",
    "final_rewards = []\n",
    "\n",
    "dqn = Dqn(observation_space, action_space)\n",
    "\n",
    "landed_count = 0"
   ]
  },
  {
   "cell_type": "code",
   "execution_count": 43,
   "metadata": {
    "scrolled": false
   },
   "outputs": [
    {
     "name": "stderr",
     "output_type": "stream",
     "text": [
      "/Users/hamishdickson/miniconda3/envs/py36/lib/python3.6/site-packages/ipykernel_launcher.py:39: RuntimeWarning: invalid value encountered in true_divide\n",
      "/Users/hamishdickson/miniconda3/envs/py36/lib/python3.6/site-packages/ipykernel_launcher.py:44: RuntimeWarning: invalid value encountered in less\n"
     ]
    },
    {
     "name": "stdout",
     "output_type": "stream",
     "text": [
      "Epoch: 1, steps: 114, reward: -100\n",
      "Epoch: 2, steps: 82, reward: -100\n",
      "Epoch: 3, steps: 75, reward: -100\n",
      "Epoch: 4, steps: 72, reward: -100\n",
      "Epoch: 5, steps: 76, reward: -100\n",
      "Epoch: 6, steps: 55, reward: -100\n",
      "Epoch: 7, steps: 83, reward: -100\n",
      "Epoch: 8, steps: 63, reward: -100\n",
      "Epoch: 9, steps: 54, reward: -100\n",
      "Epoch: 10, steps: 69, reward: -100\n",
      "Epoch: 11, steps: 68, reward: -100\n",
      "Epoch: 12, steps: 71, reward: -100\n",
      "Epoch: 13, steps: 59, reward: -100\n",
      "Epoch: 14, steps: 81, reward: -100\n",
      "Epoch: 15, steps: 60, reward: -100\n",
      "Epoch: 16, steps: 74, reward: -100\n",
      "Epoch: 17, steps: 87, reward: -100\n",
      "Epoch: 18, steps: 52, reward: -100\n",
      "Epoch: 19, steps: 76, reward: -100\n",
      "Epoch: 20, steps: 68, reward: -100\n",
      "Epoch: 21, steps: 106, reward: -100\n",
      "Epoch: 22, steps: 93, reward: -100\n",
      "Epoch: 23, steps: 69, reward: -100\n",
      "Epoch: 24, steps: 66, reward: -100\n",
      "Epoch: 25, steps: 66, reward: -100\n",
      "Epoch: 26, steps: 79, reward: -100\n",
      "Epoch: 27, steps: 56, reward: -100\n",
      "Epoch: 28, steps: 68, reward: -100\n",
      "Epoch: 29, steps: 79, reward: -100\n",
      "Epoch: 30, steps: 79, reward: -100\n",
      "Epoch: 31, steps: 68, reward: -100\n",
      "Epoch: 32, steps: 64, reward: -100\n",
      "Epoch: 33, steps: 54, reward: -100\n",
      "Epoch: 34, steps: 57, reward: -100\n",
      "Epoch: 35, steps: 75, reward: -100\n",
      "Epoch: 36, steps: 87, reward: -100\n",
      "Epoch: 37, steps: 71, reward: -100\n",
      "Epoch: 38, steps: 55, reward: -100\n",
      "Epoch: 39, steps: 76, reward: -100\n",
      "Epoch: 40, steps: 55, reward: -100\n",
      "Epoch: 41, steps: 91, reward: -100\n",
      "Epoch: 42, steps: 79, reward: -100\n",
      "Epoch: 43, steps: 82, reward: -100\n",
      "Epoch: 44, steps: 55, reward: -100\n",
      "Epoch: 45, steps: 53, reward: -100\n",
      "Epoch: 46, steps: 88, reward: -100\n",
      "Epoch: 47, steps: 63, reward: -100\n",
      "Epoch: 48, steps: 87, reward: -100\n",
      "Epoch: 49, steps: 64, reward: -100\n",
      "Epoch: 50, steps: 69, reward: -100\n",
      "Epoch: 51, steps: 50, reward: -100\n",
      "Epoch: 52, steps: 59, reward: -100\n",
      "Epoch: 53, steps: 83, reward: -100\n",
      "Epoch: 54, steps: 57, reward: -100\n",
      "Epoch: 55, steps: 53, reward: -100\n",
      "Epoch: 56, steps: 80, reward: -100\n",
      "Epoch: 57, steps: 71, reward: -100\n",
      "Epoch: 58, steps: 54, reward: -100\n",
      "Epoch: 59, steps: 66, reward: -100\n",
      "Epoch: 60, steps: 55, reward: -100\n",
      "Epoch: 61, steps: 57, reward: -100\n",
      "Epoch: 62, steps: 57, reward: -100\n",
      "Epoch: 63, steps: 57, reward: -100\n",
      "Epoch: 64, steps: 76, reward: -100\n",
      "Epoch: 65, steps: 58, reward: -100\n",
      "Epoch: 66, steps: 55, reward: -100\n",
      "Epoch: 67, steps: 59, reward: -100\n",
      "Epoch: 68, steps: 56, reward: -100\n",
      "Epoch: 69, steps: 69, reward: -100\n",
      "Epoch: 70, steps: 81, reward: -100\n",
      "Epoch: 71, steps: 57, reward: -100\n",
      "Epoch: 72, steps: 78, reward: -100\n",
      "Epoch: 73, steps: 57, reward: -100\n",
      "Epoch: 74, steps: 64, reward: -100\n",
      "Epoch: 75, steps: 62, reward: -100\n",
      "Epoch: 76, steps: 79, reward: -100\n",
      "Epoch: 77, steps: 69, reward: -100\n",
      "Epoch: 78, steps: 79, reward: -100\n",
      "Epoch: 79, steps: 57, reward: -100\n",
      "Epoch: 80, steps: 84, reward: -100\n",
      "Epoch: 81, steps: 69, reward: -100\n",
      "Epoch: 82, steps: 88, reward: -100\n",
      "Epoch: 83, steps: 74, reward: -100\n",
      "Epoch: 84, steps: 59, reward: -100\n",
      "Epoch: 85, steps: 80, reward: -100\n",
      "Epoch: 86, steps: 84, reward: -100\n",
      "Epoch: 87, steps: 77, reward: -100\n",
      "Epoch: 88, steps: 52, reward: -100\n",
      "Epoch: 89, steps: 58, reward: -100\n",
      "Epoch: 90, steps: 53, reward: -100\n",
      "Epoch: 91, steps: 77, reward: -100\n",
      "Epoch: 92, steps: 86, reward: -100\n",
      "Epoch: 93, steps: 52, reward: -100\n",
      "Epoch: 94, steps: 62, reward: -100\n",
      "Epoch: 95, steps: 86, reward: -100\n",
      "Epoch: 96, steps: 81, reward: -100\n",
      "Epoch: 97, steps: 81, reward: -100\n",
      "Epoch: 98, steps: 88, reward: -100\n",
      "Epoch: 99, steps: 57, reward: -100\n",
      "Epoch: 100, steps: 85, reward: -100\n",
      "Epoch: 101, steps: 62, reward: -100\n",
      "Epoch: 102, steps: 86, reward: -100\n",
      "Epoch: 103, steps: 68, reward: -100\n",
      "Epoch: 104, steps: 60, reward: -100\n",
      "Epoch: 105, steps: 67, reward: -100\n",
      "Epoch: 106, steps: 71, reward: -100\n",
      "Epoch: 107, steps: 53, reward: -100\n",
      "Epoch: 108, steps: 83, reward: -100\n",
      "Epoch: 109, steps: 72, reward: -100\n",
      "Epoch: 110, steps: 78, reward: -100\n",
      "Epoch: 111, steps: 65, reward: -100\n",
      "Epoch: 112, steps: 55, reward: -100\n",
      "Epoch: 113, steps: 71, reward: -100\n",
      "Epoch: 114, steps: 73, reward: -100\n",
      "Epoch: 115, steps: 83, reward: -100\n",
      "Epoch: 116, steps: 89, reward: -100\n",
      "Epoch: 117, steps: 66, reward: -100\n",
      "Epoch: 118, steps: 73, reward: -100\n",
      "Epoch: 119, steps: 74, reward: -100\n",
      "Epoch: 120, steps: 88, reward: -100\n",
      "Epoch: 121, steps: 59, reward: -100\n",
      "Epoch: 122, steps: 68, reward: -100\n",
      "Epoch: 123, steps: 71, reward: -100\n",
      "Epoch: 124, steps: 84, reward: -100\n",
      "Epoch: 125, steps: 64, reward: -100\n",
      "Epoch: 126, steps: 79, reward: -100\n",
      "Epoch: 127, steps: 72, reward: -100\n",
      "Epoch: 128, steps: 87, reward: -100\n",
      "Epoch: 129, steps: 79, reward: -100\n",
      "Epoch: 130, steps: 72, reward: -100\n",
      "Epoch: 131, steps: 70, reward: -100\n",
      "Epoch: 132, steps: 56, reward: -100\n",
      "Epoch: 133, steps: 79, reward: -100\n",
      "Epoch: 134, steps: 57, reward: -100\n",
      "Epoch: 135, steps: 88, reward: -100\n",
      "Epoch: 136, steps: 89, reward: -100\n",
      "Epoch: 137, steps: 86, reward: -100\n",
      "Epoch: 138, steps: 90, reward: -100\n",
      "Epoch: 139, steps: 75, reward: -100\n",
      "Epoch: 140, steps: 53, reward: -100\n",
      "Epoch: 141, steps: 66, reward: -100\n",
      "Epoch: 142, steps: 63, reward: -100\n",
      "Epoch: 143, steps: 58, reward: -100\n",
      "Epoch: 144, steps: 66, reward: -100\n",
      "Epoch: 145, steps: 58, reward: -100\n",
      "Epoch: 146, steps: 60, reward: -100\n",
      "Epoch: 147, steps: 56, reward: -100\n",
      "Epoch: 148, steps: 79, reward: -100\n",
      "Epoch: 149, steps: 78, reward: -100\n",
      "Epoch: 150, steps: 66, reward: -100\n",
      "Epoch: 151, steps: 72, reward: -100\n",
      "Epoch: 152, steps: 86, reward: -100\n",
      "Epoch: 153, steps: 91, reward: -100\n",
      "Epoch: 154, steps: 66, reward: -100\n",
      "Epoch: 155, steps: 81, reward: -100\n",
      "Epoch: 156, steps: 69, reward: -100\n",
      "Epoch: 157, steps: 59, reward: -100\n",
      "Epoch: 158, steps: 53, reward: -100\n",
      "Epoch: 159, steps: 67, reward: -100\n",
      "Epoch: 160, steps: 80, reward: -100\n",
      "Epoch: 161, steps: 75, reward: -100\n",
      "Epoch: 162, steps: 54, reward: -100\n",
      "Epoch: 163, steps: 60, reward: -100\n",
      "Epoch: 164, steps: 62, reward: -100\n",
      "Epoch: 165, steps: 69, reward: -100\n",
      "Epoch: 166, steps: 64, reward: -100\n",
      "Epoch: 167, steps: 91, reward: -100\n",
      "Epoch: 168, steps: 75, reward: -100\n",
      "Epoch: 169, steps: 69, reward: -100\n",
      "Epoch: 170, steps: 63, reward: -100\n",
      "Epoch: 171, steps: 75, reward: -100\n",
      "Epoch: 172, steps: 90, reward: -100\n",
      "Epoch: 173, steps: 62, reward: -100\n",
      "Epoch: 174, steps: 69, reward: -100\n",
      "Epoch: 175, steps: 56, reward: -100\n",
      "Epoch: 176, steps: 63, reward: -100\n",
      "Epoch: 177, steps: 57, reward: -100\n",
      "Epoch: 178, steps: 61, reward: -100\n",
      "Epoch: 179, steps: 73, reward: -100\n",
      "Epoch: 180, steps: 69, reward: -100\n",
      "Epoch: 181, steps: 78, reward: -100\n",
      "Epoch: 182, steps: 89, reward: -100\n",
      "Epoch: 183, steps: 55, reward: -100\n",
      "Epoch: 184, steps: 71, reward: -100\n",
      "Epoch: 185, steps: 81, reward: -100\n",
      "Epoch: 186, steps: 105, reward: -100\n",
      "Epoch: 187, steps: 62, reward: -100\n",
      "Epoch: 188, steps: 60, reward: -100\n",
      "Epoch: 189, steps: 59, reward: -100\n",
      "Epoch: 190, steps: 60, reward: -100\n",
      "Epoch: 191, steps: 90, reward: -100\n",
      "Epoch: 192, steps: 61, reward: -100\n",
      "Epoch: 193, steps: 107, reward: -100\n",
      "Epoch: 194, steps: 84, reward: -100\n",
      "Epoch: 195, steps: 75, reward: -100\n",
      "Epoch: 196, steps: 59, reward: -100\n",
      "Epoch: 197, steps: 70, reward: -100\n",
      "Epoch: 198, steps: 51, reward: -100\n",
      "Epoch: 199, steps: 71, reward: -100\n",
      "Epoch: 200, steps: 63, reward: -100\n",
      "Epoch: 201, steps: 55, reward: -100\n",
      "Epoch: 202, steps: 79, reward: -100\n",
      "Epoch: 203, steps: 56, reward: -100\n",
      "Epoch: 204, steps: 58, reward: -100\n",
      "Epoch: 205, steps: 71, reward: -100\n",
      "Epoch: 206, steps: 53, reward: -100\n",
      "Epoch: 207, steps: 90, reward: -100\n",
      "Epoch: 208, steps: 63, reward: -100\n",
      "Epoch: 209, steps: 62, reward: -100\n",
      "Epoch: 210, steps: 63, reward: -100\n",
      "Epoch: 211, steps: 88, reward: -100\n",
      "Epoch: 212, steps: 81, reward: -100\n",
      "Epoch: 213, steps: 85, reward: -100\n",
      "Epoch: 214, steps: 58, reward: -100\n",
      "Epoch: 215, steps: 63, reward: -100\n",
      "Epoch: 216, steps: 59, reward: -100\n",
      "Epoch: 217, steps: 71, reward: -100\n",
      "Epoch: 218, steps: 54, reward: -100\n",
      "Epoch: 219, steps: 68, reward: -100\n",
      "Epoch: 220, steps: 54, reward: -100\n",
      "Epoch: 221, steps: 56, reward: -100\n",
      "Epoch: 222, steps: 54, reward: -100\n",
      "Epoch: 223, steps: 89, reward: -100\n",
      "Epoch: 224, steps: 54, reward: -100\n",
      "Epoch: 225, steps: 75, reward: -100\n",
      "Epoch: 226, steps: 65, reward: -100\n",
      "Epoch: 227, steps: 77, reward: -100\n",
      "Epoch: 228, steps: 50, reward: -100\n",
      "Epoch: 229, steps: 91, reward: -100\n",
      "Epoch: 230, steps: 61, reward: -100\n",
      "Epoch: 231, steps: 108, reward: -100\n"
     ]
    },
    {
     "name": "stdout",
     "output_type": "stream",
     "text": [
      "Epoch: 232, steps: 86, reward: -100\n",
      "Epoch: 233, steps: 75, reward: -100\n",
      "Epoch: 234, steps: 89, reward: -100\n",
      "Epoch: 235, steps: 73, reward: -100\n"
     ]
    },
    {
     "ename": "KeyboardInterrupt",
     "evalue": "",
     "output_type": "error",
     "traceback": [
      "\u001b[0;31m---------------------------------------------------------------------------\u001b[0m",
      "\u001b[0;31mKeyboardInterrupt\u001b[0m                         Traceback (most recent call last)",
      "\u001b[0;32m<timed exec>\u001b[0m in \u001b[0;36m<module>\u001b[0;34m\u001b[0m\n",
      "\u001b[0;32m<ipython-input-39-b833c5d973aa>\u001b[0m in \u001b[0;36mexperience_replay\u001b[0;34m(self)\u001b[0m\n\u001b[1;32m     52\u001b[0m             \u001b[0mq_values_predicted\u001b[0m \u001b[0;34m=\u001b[0m \u001b[0mself\u001b[0m\u001b[0;34m.\u001b[0m\u001b[0mpredict\u001b[0m\u001b[0;34m(\u001b[0m\u001b[0mstate\u001b[0m\u001b[0;34m)\u001b[0m\u001b[0;34m\u001b[0m\u001b[0m\n\u001b[1;32m     53\u001b[0m             \u001b[0mq_values_predicted\u001b[0m\u001b[0;34m[\u001b[0m\u001b[0maction\u001b[0m\u001b[0;34m]\u001b[0m \u001b[0;34m=\u001b[0m \u001b[0mstate_reward\u001b[0m\u001b[0;34m\u001b[0m\u001b[0m\n\u001b[0;32m---> 54\u001b[0;31m             \u001b[0mself\u001b[0m\u001b[0;34m.\u001b[0m\u001b[0mfit\u001b[0m\u001b[0;34m(\u001b[0m\u001b[0mstate\u001b[0m\u001b[0;34m,\u001b[0m \u001b[0mq_values_predicted\u001b[0m\u001b[0;34m)\u001b[0m\u001b[0;34m\u001b[0m\u001b[0m\n\u001b[0m",
      "\u001b[0;32m<ipython-input-39-b833c5d973aa>\u001b[0m in \u001b[0;36mfit\u001b[0;34m(self, state, q_values)\u001b[0m\n\u001b[1;32m     16\u001b[0m         \u001b[0mloss\u001b[0m \u001b[0;34m=\u001b[0m \u001b[0mself\u001b[0m\u001b[0;34m.\u001b[0m\u001b[0mcriterion\u001b[0m\u001b[0;34m(\u001b[0m\u001b[0mlog_ps\u001b[0m\u001b[0;34m,\u001b[0m \u001b[0mq_values\u001b[0m\u001b[0;34m)\u001b[0m\u001b[0;34m\u001b[0m\u001b[0m\n\u001b[1;32m     17\u001b[0m         \u001b[0mloss\u001b[0m\u001b[0;34m.\u001b[0m\u001b[0mbackward\u001b[0m\u001b[0;34m(\u001b[0m\u001b[0;34m)\u001b[0m\u001b[0;34m\u001b[0m\u001b[0m\n\u001b[0;32m---> 18\u001b[0;31m         \u001b[0mself\u001b[0m\u001b[0;34m.\u001b[0m\u001b[0moptimizer\u001b[0m\u001b[0;34m.\u001b[0m\u001b[0mstep\u001b[0m\u001b[0;34m(\u001b[0m\u001b[0;34m)\u001b[0m\u001b[0;34m\u001b[0m\u001b[0m\n\u001b[0m\u001b[1;32m     19\u001b[0m \u001b[0;34m\u001b[0m\u001b[0m\n\u001b[1;32m     20\u001b[0m \u001b[0;34m\u001b[0m\u001b[0m\n",
      "\u001b[0;32m~/miniconda3/envs/py36/lib/python3.6/site-packages/torch/optim/adam.py\u001b[0m in \u001b[0;36mstep\u001b[0;34m(self, closure)\u001b[0m\n\u001b[1;32m    104\u001b[0m                 \u001b[0mstep_size\u001b[0m \u001b[0;34m=\u001b[0m \u001b[0mgroup\u001b[0m\u001b[0;34m[\u001b[0m\u001b[0;34m'lr'\u001b[0m\u001b[0;34m]\u001b[0m \u001b[0;34m*\u001b[0m \u001b[0mmath\u001b[0m\u001b[0;34m.\u001b[0m\u001b[0msqrt\u001b[0m\u001b[0;34m(\u001b[0m\u001b[0mbias_correction2\u001b[0m\u001b[0;34m)\u001b[0m \u001b[0;34m/\u001b[0m \u001b[0mbias_correction1\u001b[0m\u001b[0;34m\u001b[0m\u001b[0m\n\u001b[1;32m    105\u001b[0m \u001b[0;34m\u001b[0m\u001b[0m\n\u001b[0;32m--> 106\u001b[0;31m                 \u001b[0mp\u001b[0m\u001b[0;34m.\u001b[0m\u001b[0mdata\u001b[0m\u001b[0;34m.\u001b[0m\u001b[0maddcdiv_\u001b[0m\u001b[0;34m(\u001b[0m\u001b[0;34m-\u001b[0m\u001b[0mstep_size\u001b[0m\u001b[0;34m,\u001b[0m \u001b[0mexp_avg\u001b[0m\u001b[0;34m,\u001b[0m \u001b[0mdenom\u001b[0m\u001b[0;34m)\u001b[0m\u001b[0;34m\u001b[0m\u001b[0m\n\u001b[0m\u001b[1;32m    107\u001b[0m \u001b[0;34m\u001b[0m\u001b[0m\n\u001b[1;32m    108\u001b[0m         \u001b[0;32mreturn\u001b[0m \u001b[0mloss\u001b[0m\u001b[0;34m\u001b[0m\u001b[0m\n",
      "\u001b[0;31mKeyboardInterrupt\u001b[0m: "
     ]
    }
   ],
   "source": [
    "%%time\n",
    "\n",
    "for run in range(epochs):\n",
    "    step = 0\n",
    "    state = env.reset()\n",
    "\n",
    "    while True:\n",
    "        step += 1\n",
    "        action = dqn.get_action(state)\n",
    "        \n",
    "        state_next, reward, terminal, info = env.step(action)\n",
    "        \n",
    "        if terminal and reward >= 50:\n",
    "            print(\"landed: \" + str(reward))\n",
    "            landed_count += 1\n",
    "        \n",
    "        dqn.remember(state, action, reward, state_next, terminal)\n",
    "        \n",
    "        state = state_next\n",
    "        \n",
    "        if terminal:\n",
    "            print(\"Epoch: \" + str(run + 1) + \", steps: \" + str(step) + \", reward: \" + str(reward))\n",
    "            scores.append(step)\n",
    "            final_rewards.append(reward)\n",
    "            break\n",
    "            \n",
    "        dqn.experience_replay()"
   ]
  },
  {
   "cell_type": "code",
   "execution_count": 22,
   "metadata": {},
   "outputs": [
    {
     "data": {
      "text/plain": [
       "[<matplotlib.lines.Line2D at 0x11dece208>]"
      ]
     },
     "execution_count": 22,
     "metadata": {},
     "output_type": "execute_result"
    },
    {
     "data": {
      "image/png": "[encoded data removed]",
      "text/plain": [
       "<Figure size 432x288 with 1 Axes>"
      ]
     },
     "metadata": {
      "needs_background": "light"
     },
     "output_type": "display_data"
    }
   ],
   "source": [
    "plt.plot(scores)"
   ]
  },
  {
   "cell_type": "code",
   "execution_count": 23,
   "metadata": {},
   "outputs": [
    {
     "data": {
      "text/plain": [
       "[<matplotlib.lines.Line2D at 0x11df248d0>]"
      ]
     },
     "execution_count": 23,
     "metadata": {},
     "output_type": "execute_result"
    },
    {
     "data": {
      "image/png": "[encoded data removed]",
      "text/plain": [
       "<Figure size 432x288 with 1 Axes>"
      ]
     },
     "metadata": {
      "needs_background": "light"
     },
     "output_type": "display_data"
    }
   ],
   "source": [
    "plt.plot(final_rewards)"
   ]
  },
  {
   "cell_type": "code",
   "execution_count": null,
   "metadata": {},
   "outputs": [],
   "source": [
    "# this breaks the kernel\n",
    "\n",
    "\n",
    "from gym.wrappers import Monitor\n",
    "\n",
    "video_env = Monitor(env, './test_video', force=True)\n",
    "\n",
    "state = video_env.reset()\n",
    "done = False\n",
    "while not done:\n",
    "#     video_env.render()\n",
    "#     video_env.render(close=True)\n",
    "    action = np.argmax(dqn.predict(state))\n",
    "    state, reward, done, info = video_env.step(action)\n",
    "#     print(reward)"
   ]
  },
  {
   "cell_type": "code",
   "execution_count": null,
   "metadata": {},
   "outputs": [],
   "source": []
  }
 ],
 "metadata": {
  "kernelspec": {
   "display_name": "Python 3",
   "language": "python",
   "name": "python3"
  },
  "language_info": {
   "codemirror_mode": {
    "name": "ipython",
    "version": 3
   },
   "file_extension": ".py",
   "mimetype": "text/x-python",
   "name": "python",
   "nbconvert_exporter": "python",
   "pygments_lexer": "ipython3",
   "version": "3.6.6"
  }
 },
 "nbformat": 4,
 "nbformat_minor": 2
}
