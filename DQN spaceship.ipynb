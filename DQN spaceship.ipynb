{
 "cells": [
  {
   "cell_type": "code",
   "execution_count": 1,
   "metadata": {},
   "outputs": [],
   "source": [
    "import random\n",
    "import gym\n",
    "import numpy as np\n",
    "from collections import deque\n",
    "\n",
    "import torch\n",
    "from torch import nn, optim\n",
    "import torch.nn.functional as F\n",
    "\n",
    "import matplotlib.pyplot as plt\n",
    "%matplotlib inline"
   ]
  },
  {
   "cell_type": "code",
   "execution_count": 35,
   "metadata": {},
   "outputs": [],
   "source": [
    "ENV_NAME = \"LunarLander-v2\"\n",
    "\n",
    "GAMMA = 0.999\n",
    "LEARNING_RATE = 0.0001\n",
    "\n",
    "MEMORY_SIZE = 25000\n",
    "BATCH_SIZE = 32\n",
    "\n",
    "EXPLORATION_MAX = 0.3\n",
    "EXPLORATION_MIN = 0.2\n",
    "EXPLORATION_DECAY = 0.9999"
   ]
  },
  {
   "cell_type": "code",
   "execution_count": 36,
   "metadata": {},
   "outputs": [],
   "source": [
    "class EnvModel(nn.Module):\n",
    "    def __init__(self, observation_space, action_space):\n",
    "        super().__init__()\n",
    "        self.fc1 = nn.Linear(observation_space, 128)\n",
    "        self.fc2 = nn.Linear(128, 64)\n",
    "        self.fc_out = nn.Linear(64, action_space)\n",
    "    \n",
    "    def forward(self, x):\n",
    "        x = torch.from_numpy(x).float()\n",
    "        x = F.relu(self.fc1(x))\n",
    "        x = F.relu(self.fc2(x))\n",
    "        x = self.fc_out(x)\n",
    "        return x"
   ]
  },
  {
   "cell_type": "code",
   "execution_count": 37,
   "metadata": {},
   "outputs": [],
   "source": [
    "class Dqn():\n",
    "    def __init__(self, observation_space, action_space):\n",
    "        self.observation_space = observation_space\n",
    "        self.action_space = action_space\n",
    "        self.model = EnvModel(observation_space, action_space)\n",
    "        self.criterion = nn.MSELoss()\n",
    "        self.optimizer = optim.Adam(self.model.parameters(), lr=LEARNING_RATE)\n",
    "        self.train_losses = []\n",
    "        self.epsilon = EXPLORATION_MAX\n",
    "        self.memory = deque(maxlen=MEMORY_SIZE)    \n",
    "        \n",
    "        \n",
    "    def fit(self, state, q_values):\n",
    "        q_values = torch.FloatTensor(q_values)\n",
    "        self.optimizer.zero_grad()\n",
    "        log_ps = self.model(state)\n",
    "        loss = self.criterion(log_ps, q_values)\n",
    "        loss.backward()\n",
    "        self.optimizer.step()\n",
    "        \n",
    "        \n",
    "    def predict(self, state):\n",
    "        self.model.eval()\n",
    "        with torch.no_grad():\n",
    "            prediction = self.model(state)\n",
    "        \n",
    "        self.model.train()\n",
    "        return prediction.numpy()\n",
    "    \n",
    "    \n",
    "    def remember(self, state, action, reward, next_state, done):\n",
    "        self.memory.append((state, action, reward, next_state, done))\n",
    "\n",
    "        \n",
    "    def get_action(self, state):  \n",
    "        random_action = random.random() <= self.epsilon\n",
    "        q_values = self.predict(state)\n",
    "        return random.randint(0, self.action_space - 1) if random_action else np.argmax(q_values)\n",
    "    \n",
    "    \n",
    "    def experience_replay(self):\n",
    "        batch = random.sample(self.memory, min(BATCH_SIZE, len(self.memory)))\n",
    "\n",
    "        for state, action, reward, state_next, terminal in batch:\n",
    "            state_reward = reward if terminal else (reward + GAMMA * np.max(self.predict(state_next)))\n",
    "            q_values_predicted = self.predict(state)\n",
    "            q_values_predicted[action] = state_reward\n",
    "            self.fit(state, q_values_predicted)"
   ]
  },
  {
   "cell_type": "code",
   "execution_count": 38,
   "metadata": {},
   "outputs": [
    {
     "name": "stdout",
     "output_type": "stream",
     "text": [
      "\u001b[33mWARN: gym.spaces.Box autodetected dtype as <class 'numpy.float32'>. Please provide explicit dtype.\u001b[0m\n"
     ]
    }
   ],
   "source": [
    "env = gym.make(ENV_NAME)"
   ]
  },
  {
   "cell_type": "code",
   "execution_count": 39,
   "metadata": {},
   "outputs": [
    {
     "name": "stdout",
     "output_type": "stream",
     "text": [
      "8 4\n"
     ]
    }
   ],
   "source": [
    "observation_space = env.observation_space.shape[0]\n",
    "action_space = env.action_space.n\n",
    "\n",
    "print(observation_space, action_space)"
   ]
  },
  {
   "cell_type": "code",
   "execution_count": 40,
   "metadata": {},
   "outputs": [],
   "source": [
    "epochs = 500\n",
    "exploration_rate = EXPLORATION_MAX\n",
    "\n",
    "scores = []\n",
    "final_rewards = []\n",
    "\n",
    "dqn = Dqn(observation_space, action_space)\n",
    "\n",
    "landed_count = 0"
   ]
  },
  {
   "cell_type": "code",
   "execution_count": null,
   "metadata": {
    "scrolled": false
   },
   "outputs": [
    {
     "name": "stdout",
     "output_type": "stream",
     "text": [
      "Epoch: 1, epsilon: 0.29698510012725077, steps: 102, reward: -100\n",
      "Epoch: 2, epsilon: 0.2926511351436448, steps: 148, reward: -100\n",
      "Epoch: 3, epsilon: 0.28997095840733844, steps: 93, reward: -100\n",
      "Epoch: 4, epsilon: 0.2869707386126297, steps: 105, reward: -100\n",
      "Epoch: 5, epsilon: 0.2843994615030759, steps: 91, reward: -100\n",
      "Epoch: 6, epsilon: 0.2815413418354238, steps: 102, reward: -100\n",
      "Epoch: 7, epsilon: 0.2741232888122292, steps: 268, reward: -100\n",
      "Epoch: 8, epsilon: 0.27125991015489165, steps: 106, reward: -100\n",
      "Epoch: 9, epsilon: 0.26880252018416595, steps: 92, reward: -100\n",
      "Epoch: 10, epsilon: 0.2665272685172853, steps: 86, reward: -100\n",
      "Epoch: 11, epsilon: 0.26342691688148634, steps: 118, reward: -100\n",
      "Epoch: 12, epsilon: 0.2599723590918361, steps: 133, reward: -100\n",
      "Epoch: 13, epsilon: 0.2578749839499712, steps: 82, reward: -100\n",
      "Epoch: 14, epsilon: 0.25500275502368414, steps: 113, reward: -100\n",
      "Epoch: 15, epsilon: 0.2519860563597597, steps: 120, reward: -100\n",
      "Epoch: 16, epsilon: 0.24920433913921267, steps: 112, reward: -100\n",
      "Epoch: 17, epsilon: 0.24635476322564684, steps: 116, reward: -100\n",
      "Epoch: 18, epsilon: 0.2434160268126634, steps: 121, reward: -100\n",
      "Epoch: 19, epsilon: 0.24027194208922759, steps: 131, reward: -100\n",
      "Epoch: 20, epsilon: 0.23795245596998665, steps: 98, reward: -100\n",
      "Epoch: 21, epsilon: 0.23567892910492189, steps: 97, reward: -100\n",
      "Epoch: 22, epsilon: 0.2310119426075417, steps: 201, reward: -100\n",
      "Epoch: 23, epsilon: 0.22704961087830489, steps: 174, reward: -100\n",
      "Epoch: 24, epsilon: 0.22393769227647448, steps: 139, reward: -100\n",
      "Epoch: 25, epsilon: 0.21992068280079521, steps: 182, reward: -100\n",
      "Epoch: 26, epsilon: 0.21612697421573168, steps: 175, reward: -100\n",
      "Epoch: 27, epsilon: 0.20967622672639782, steps: 304, reward: -100\n",
      "Epoch: 28, epsilon: 0.2046422532114821, steps: 244, reward: -100\n",
      "Epoch: 29, epsilon: 0.20101156693055053, steps: 180, reward: -100\n",
      "Epoch: 30, epsilon: 0.2, steps: 110, reward: -100\n",
      "Epoch: 31, epsilon: 0.2, steps: 591, reward: -100\n",
      "Epoch: 32, epsilon: 0.2, steps: 412, reward: -100\n",
      "Epoch: 33, epsilon: 0.2, steps: 121, reward: -100\n",
      "Epoch: 34, epsilon: 0.2, steps: 152, reward: -100\n"
     ]
    }
   ],
   "source": [
    "%%time\n",
    "\n",
    "for run in range(epochs):\n",
    "    step = 0\n",
    "    state = env.reset()\n",
    "\n",
    "    while True:\n",
    "        step += 1\n",
    "        action = dqn.get_action(state)\n",
    "        \n",
    "        state_next, reward, terminal, info = env.step(action)\n",
    "        \n",
    "        if terminal and reward >= 50:\n",
    "            print(\"landed: \" + str(reward))\n",
    "            landed_count += 1\n",
    "        \n",
    "        dqn.remember(state, action, reward, state_next, terminal)\n",
    "        \n",
    "        state = state_next\n",
    "        \n",
    "        if terminal:\n",
    "            print(\"Epoch: \" + str(run + 1) + \", epsilon: \" + str(dqn.epsilon) + \", steps: \" + str(step) + \", reward: \" + str(reward))\n",
    "            scores.append(step)\n",
    "            final_rewards.append(reward)\n",
    "            break\n",
    "            \n",
    "        dqn.experience_replay()\n",
    "        \n",
    "        dqn.epsilon *= EXPLORATION_DECAY\n",
    "        dqn.epsilon = max(EXPLORATION_MIN, dqn.epsilon)"
   ]
  },
  {
   "cell_type": "code",
   "execution_count": null,
   "metadata": {},
   "outputs": [],
   "source": [
    "plt.plot(scores)"
   ]
  },
  {
   "cell_type": "code",
   "execution_count": 10,
   "metadata": {},
   "outputs": [
    {
     "data": {
      "text/plain": [
       "[<matplotlib.lines.Line2D at 0x122a802b0>]"
      ]
     },
     "execution_count": 10,
     "metadata": {},
     "output_type": "execute_result"
    },
    {
     "data": {
      "image/png": "[encoded data removed]",
      "text/plain": [
       "<Figure size 432x288 with 1 Axes>"
      ]
     },
     "metadata": {
      "needs_background": "light"
     },
     "output_type": "display_data"
    }
   ],
   "source": [
    "plt.plot(final_rewards)"
   ]
  },
  {
   "cell_type": "code",
   "execution_count": null,
   "metadata": {},
   "outputs": [],
   "source": [
    "# this breaks the kernel\n",
    "\n",
    "\n",
    "from gym.wrappers import Monitor\n",
    "\n",
    "video_env = Monitor(env, './test_video', force=True)\n",
    "\n",
    "state = video_env.reset()\n",
    "done = False\n",
    "while not done:\n",
    "#     video_env.render()\n",
    "#     video_env.render(close=True)\n",
    "    action = np.argmax(dqn.predict(state))\n",
    "    state, reward, done, info = video_env.step(action)\n",
    "#     print(reward)"
   ]
  },
  {
   "cell_type": "code",
   "execution_count": null,
   "metadata": {},
   "outputs": [],
   "source": []
  }
 ],
 "metadata": {
  "kernelspec": {
   "display_name": "Python 3",
   "language": "python",
   "name": "python3"
  },
  "language_info": {
   "codemirror_mode": {
    "name": "ipython",
    "version": 3
   },
   "file_extension": ".py",
   "mimetype": "text/x-python",
   "name": "python",
   "nbconvert_exporter": "python",
   "pygments_lexer": "ipython3",
   "version": "3.6.6"
  }
 },
 "nbformat": 4,
 "nbformat_minor": 2
}
